{
 "cells": [
  {
   "cell_type": "code",
   "execution_count": 1,
   "metadata": {},
   "outputs": [],
   "source": [
    "import numpy as np\n",
    "from collections import ChainMap\n",
    "from itertools import permutations"
   ]
  },
  {
   "cell_type": "code",
   "execution_count": 2,
   "metadata": {},
   "outputs": [],
   "source": [
    "# lists containing individual ranked lists (i.e., base sequences)\n",
    "\n",
    "ADNI = ['ABETA', 'LDEL', 'MMSE', 'LIMM','PTAU','TAU', 'ENTOR', 'HIPPO', 'VENT','MIDTEMP','FUSIF']\n",
    "AIBL = ['LIMM', 'LDEL', 'MMSE','FIGC']\n",
    "JADNI = ['ABETA','PTAU','LIMM','MMSE','VENT','ENTOR','LDEL', 'TAU','HIPPO','FUSIF','MIDTEMP']\n",
    "ANM = ['MMSE', 'CSFVOL', 'HIPPO', 'ENTOR', 'MIDTEMP', 'FUSIF', 'VENT']\n",
    "WMHAD = ['MMSE', 'FUSIF','VENT', 'ENTOR', 'CSFVOL', 'HIPPO', 'MIDTEMP']\n",
    "ARWIBO = ['LDEL', 'VENT', 'MMSE', 'FUSIF','LIMM', 'ENTOR', 'HIPPO', 'MIDTEMP', 'CSFVOL','FIGC']\n",
    "EMIF = ['MMSE', 'ABETA', 'TAU', 'PTAU', 'LDEL', 'LIMM','HIPPO']\n",
    "OASIS = ['MMSE', 'CSFVOL', 'MIDTEMP', 'HIPPO', 'ENTOR', 'FUSIF', 'VENT']\n",
    "EDSD = ['MMSE', 'HIPPO', 'VENT','ENTOR', 'FIGC', 'MIDTEMP','FUSIF']\n",
    "NACC = ['ABETA', 'LIMM', 'MMSE', 'TAU','PTAU','ENTOR', 'MIDTEMP', 'FUSIF', 'HIPPO', 'CSFVOL', 'VENT']\n",
    "\n",
    "all_cohorts = [ADNI, AIBL, ANM, WMHAD, ARWIBO, EMIF, OASIS, EDSD, NACC, JADNI]\n",
    "\n",
    "# list containing the underlying event space (ie. all possible events)\n",
    "space = ['ABETA', 'LDEL', 'MMSE', 'LIMM', 'ENTOR', 'HIPPO', 'VENT','FUSIF','MIDTEMP', 'FIGC', 'CSFVOL', 'TAU', 'PTAU']\n"
   ]
  },
  {
   "cell_type": "code",
   "execution_count": 3,
   "metadata": {},
   "outputs": [],
   "source": [
    "k = 8 # select length of starting sequence"
   ]
  },
  {
   "cell_type": "code",
   "execution_count": 4,
   "metadata": {},
   "outputs": [],
   "source": [
    "def Spearman_Footrule(list_1,list_2):\n",
    "    \"\"\"Distance function\"\"\"\n",
    "    \n",
    "    dist = 0\n",
    "    \n",
    "    for feat in list_1:\n",
    "        \n",
    "        list_1_index = list_1.index(feat)\n",
    "        list_2_index = list_2.index(feat)\n",
    "        \n",
    "        dist += abs(list_1_index - list_2_index)\n",
    "    \n",
    "    return dist"
   ]
  },
  {
   "cell_type": "code",
   "execution_count": 5,
   "metadata": {},
   "outputs": [],
   "source": [
    "def pattern_sequence_consistency(pattern, all_cohorts):\n",
    "    \"\"\"Calculate distance between the potential meta-sequence / starting sequence (ie., pattern) \n",
    "    and individual event sequence\"\"\"\n",
    "    \n",
    "    pattern_copy = pattern.copy()\n",
    "    distance_Spearman_Footrule = []\n",
    "    patten_dist_Spearman_Footrule = {}\n",
    "\n",
    "    # Handeling the partially overlapping ranked lists\n",
    "    for seq in all_cohorts:\n",
    "        \n",
    "        pattern_common = [x for x in pattern_copy if x in seq]\n",
    "        seq_common = [y for y in seq if y in pattern_copy]\n",
    "\n",
    "        if len(seq_common) == 0:\n",
    "            continue\n",
    "        \n",
    "        # Calculating distance between the pattern and individual event sequence\n",
    "        dists_Spearman_Footrule = (Spearman_Footrule(pattern_common, seq_common) / len(seq_common))\n",
    "        distance_Spearman_Footrule.append(dists_Spearman_Footrule)\n",
    "    \n",
    "    # Calculating the overall distance between the pattern and all cohorts\n",
    "    dist_Spearman_Footrule = np.mean(distance_Spearman_Footrule)\n",
    "    \n",
    "    return dist_Spearman_Footrule\n"
   ]
  },
  {
   "cell_type": "code",
   "execution_count": 6,
   "metadata": {
    "scrolled": true
   },
   "outputs": [],
   "source": [
    "def add_remaining_feats(not_common, pattern, all_cohorts):\n",
    "    \"\"\"Add the remaining variables to the starting sequence (list1) in recursive manner.\n",
    "    This function depends on a global dictionary called 'meta_seqs' that stores all generated\n",
    "    sequences and their distances. It will later be used to select the best sequence.\"\"\"\n",
    "    list1 = pattern[:]\n",
    "    new_not_common = not_common[:]\n",
    "    \n",
    "    # terminate once all variables are added\n",
    "    if new_not_common == []:\n",
    "        meta_seqs[tuple(list1)] = pattern_sequence_consistency(list1, all_cohorts)\n",
    "        return None\n",
    "  \n",
    "    feat = new_not_common[0]\n",
    "    dist_dict = {}\n",
    "\n",
    "    # Iterate over all possible postions that the new variable can have in initial proposed pattern\n",
    "    for i in range(len(list1) +1): # the + 1 is needed to enable \"inserting\" at the end\n",
    "\n",
    "        list1.insert(i, feat)\n",
    "        \n",
    "        # store altered sequence and according distance\n",
    "        tup = tuple()\n",
    "        tup += (i, feat)\n",
    "        dist_dict[tup] = pattern_sequence_consistency(list1, all_cohorts)\n",
    "        \n",
    "        list1.remove(feat) # remove to try next position\n",
    "    \n",
    "    # find all possible insetions leading to minimum distance sequences\n",
    "    min_dist = min(dist_dict.values())\n",
    "    possible_insertions = [insertion for insertion in dist_dict.keys() if dist_dict[insertion] == min_dist]\n",
    "    new_not_common.remove(feat) # remove added variable\n",
    "    \n",
    "    # extend each possible option\n",
    "    for possible_insertion in possible_insertions:\n",
    "        \n",
    "        new_list1 = list1[:] # create a copy to prevent inserting into the same seq\n",
    "        new_list1.insert(*possible_insertion)\n",
    "        # explore the next steps for all possible insertions\n",
    "        add_remaining_feats(new_not_common, new_list1, all_cohorts)\n"
   ]
  },
  {
   "cell_type": "code",
   "execution_count": null,
   "metadata": {},
   "outputs": [],
   "source": [
    "# Ste"
   ]
  },
  {
   "cell_type": "code",
   "execution_count": 7,
   "metadata": {},
   "outputs": [],
   "source": [
    "#Step 1: Calculating distance between all possible start sequences (ie., patterns) and base sequence\n",
    "\n",
    "patterns_scores_Spearman_Footrule = {}\n",
    "\n",
    "# test all possible starting sequences using k variables\n",
    "for patterns in permutations(space, k):   \n",
    "    \n",
    "    patterns = list(patterns)\n",
    "    \n",
    "    dist_Spearman_Footrule = pattern_sequence_consistency(patterns, all_cohorts)\n",
    "    patterns_scores_Spearman_Footrule[tuple(patterns)] = dist_Spearman_Footrule\n",
    "\n",
    "min_score_Spearman_Footrule = min(patterns_scores_Spearman_Footrule.values())\n",
    "\n",
    "# Extracting the meta-sequence with the minimum distance to all event sequences\n",
    "for key, value in patterns_scores_Spearman_Footrule.items():\n",
    "    if value == min_score_Spearman_Footrule:\n",
    "        seq = list(key)"
   ]
  },
  {
   "cell_type": "code",
   "execution_count": 8,
   "metadata": {},
   "outputs": [
    {
     "name": "stdout",
     "output_type": "stream",
     "text": [
      "('ABETA', 'LDEL', 'LIMM', 'MMSE', 'PTAU', 'TAU', 'CSFVOL', 'HIPPO', 'ENTOR', 'MIDTEMP', 'FUSIF', 'VENT', 'FIGC')\n"
     ]
    }
   ],
   "source": [
    "# Step 2:\n",
    "# Add remaining variables to initial proposed pattern coming from  \n",
    "# permutation of variables in space list having the minimum distance with all event sequences\n",
    "not_common = [x for x in space if x not in seq]\n",
    "\n",
    "meta_seqs = dict() #\"this dict is a global variable that will be altered in the function below\"\n",
    "add_remaining_feats(not_common, seq, all_cohorts)\n",
    "\n",
    "# print meta-seqs with lowest distance\n",
    "min_dist = min(meta_seqs.values())\n",
    "min_meta_seqs = [key for key in meta_seqs.keys() if meta_seqs[key] == min_dist]\n",
    "\n",
    "for meta_seq in min_meta_seqs:\n",
    "    print(meta_seq)"
   ]
  }
 ],
 "metadata": {
  "kernelspec": {
   "display_name": "Python 3",
   "language": "python",
   "name": "python3"
  },
  "language_info": {
   "codemirror_mode": {
    "name": "ipython",
    "version": 3
   },
   "file_extension": ".py",
   "mimetype": "text/x-python",
   "name": "python",
   "nbconvert_exporter": "python",
   "pygments_lexer": "ipython3",
   "version": "3.8.5"
  }
 },
 "nbformat": 4,
 "nbformat_minor": 4
}
