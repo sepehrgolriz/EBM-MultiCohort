{
 "cells": [
  {
   "cell_type": "code",
   "execution_count": 1,
   "metadata": {},
   "outputs": [],
   "source": [
    "import numpy as np\n",
    "from collections import ChainMap\n",
    "from itertools import permutations"
   ]
  },
  {
   "cell_type": "code",
   "execution_count": null,
   "metadata": {},
   "outputs": [],
   "source": [
    "# lists containing individual ranked lists (i.e., base sequences)\n",
    "ADNI = ['ABETA', 'LDEL', 'MMSE', 'LIMM','PTAU','TAU', 'ENTOR', 'HIPPO', 'VENT', 'FUSIF','MIDTEMP']\n",
    "AIBL = ['LIMM', 'LDEL', 'MMSE','FIGC']\n",
    "JADNI = ['ABETA','PTAU','LIMM','MMSE','VENT', 'LDEL', 'TAU','HIPPO', 'ENTOR', 'FUSIF','MIDTEMP']\n",
    "ANM = ['MMSE', 'HIPPO', 'ENTOR', 'FUSIF', 'MIDTEMP', 'CSFVOL', 'VENT']\n",
    "WMHAD = ['MMSE', 'FUSIF','VENT', 'ENTOR', 'CSFVOL', 'HIPPO', 'MIDTEMP']\n",
    "ARWIBO = ['LDEL', 'VENT', 'MMSE', 'FUSIF','LIMM', 'ENTOR', 'HIPPO', 'MIDTEMP', 'CSFVOL','FIGC']\n",
    "EMIF = ['MMSE', 'ABETA', 'TAU', 'PTAU', 'LDEL', 'HIPPO']\n",
    "OASIS = ['MMSE', 'CSFVOL', 'MIDTEMP', 'HIPPO', 'ENTOR', 'FUSIF', 'VENT']\n",
    "EDSD = ['MMSE', 'HIPPO', 'VENT','ENTOR', 'FIGC', 'MIDTEMP','FUSIF']\n",
    "NACC = ['ABETA', 'LIMM', 'MMSE', 'TAU','PTAU','ENTOR', 'MIDTEMP', 'FUSIF', 'HIPPO', 'CSFVOL', 'VENT']\n",
    "\n",
    "all_cohorts = [ADNI, AIBL, ANM, WMHAD, ARWIBO, EMIF, OASIS, EDSD, NACC, JADNI]\n",
    "\n",
    "# list containing the underlying event space (ie. all possible events)\n",
    "space = ['ABETA', 'LDEL', 'MMSE', 'LIMM', 'ENTOR', 'HIPPO', 'VENT','FUSIF','MIDTEMP', 'FIGC', 'CSFVOL', 'TAU', 'PTAU']"
   ]
  },
  {
   "cell_type": "code",
   "execution_count": 4,
   "metadata": {},
   "outputs": [],
   "source": [
    "k = 8 # select length of starting sequence\n",
    "\n",
    "# create all possible starting sequences using k variables\n",
    "candidate_init_tuple = list(permutations(space, k))"
   ]
  },
  {
   "cell_type": "code",
   "execution_count": 6,
   "metadata": {},
   "outputs": [],
   "source": [
    "def Spearman_Footrule(list_1,list_2):\n",
    "    \"\"\"Distance function\"\"\"\n",
    "    \n",
    "    dist = 0\n",
    "    \n",
    "    for feat in list_1:\n",
    "        \n",
    "        list_1_index = list_1.index(feat)\n",
    "        list_2_index = list_2.index(feat)\n",
    "        \n",
    "        dist += abs(list_1_index - list_2_index)\n",
    "    \n",
    "    return dist "
   ]
  },
  {
   "cell_type": "code",
   "execution_count": 7,
   "metadata": {},
   "outputs": [],
   "source": [
    "def pattern_sequence_consistency (pattern,all_cohorts):\n",
    "    \"\"\"Calculate distance between the potential meta-sequence / starting sequence (ie., pattern) \n",
    "    and individual event sequence\"\"\"\n",
    "    \n",
    "    pattern_copy = pattern.copy()\n",
    "    distance_Spearman_Footrule = []\n",
    "    patten_dist_Spearman_Footrule = {}\n",
    "\n",
    "    # Handeling the partially overlapping ranked lists\n",
    "    for seq in all_cohorts:\n",
    "        \n",
    "        pattern_not_seq = [x for x in pattern_copy if x in seq]\n",
    "        seq_not_pattern = [y for y in seq if y in pattern_copy]\n",
    "\n",
    "        if len(seq_not_pattern) == 0:\n",
    "            continue\n",
    "        \n",
    "        # Calculating distance between the pattern and individual event sequence\n",
    "        dists_Spearman_Footrule = (Spearman_Footrule(pattern_not_seq, seq_not_pattern) / len(seq_not_pattern))\n",
    "        distance_Spearman_Footrule.append(dists_Spearman_Footrule)\n",
    "    \n",
    "    # Calculating the overall distance between the pattern and all cohorts\n",
    "    dist_Spearman_Footrule = np.mean(distance_Spearman_Footrule)\n",
    "    \n",
    "    return dist_Spearman_Footrule"
   ]
  },
  {
   "cell_type": "code",
   "execution_count": null,
   "metadata": {
    "scrolled": true
   },
   "outputs": [],
   "source": [
    "# Calculating distance between all possible meta-sequences (ie., patterns) and base sequence\n",
    "\n",
    "patterns_scores_Spearman_Footrule = {}\n",
    "\n",
    "for patterns in candidate_init_tuple:   \n",
    "    \n",
    "    patterns = list(patterns)\n",
    "    \n",
    "    dist_Spearman_Footrule = pattern_sequence_consistency(patterns, all_cohorts)\n",
    "    patterns_scores_Spearman_Footrule[tuple(patterns)] = dist_Spearman_Footrule\n",
    "\n",
    "min_score_Spearman_Footrule = min(patterns_scores_Spearman_Footrule.values())"
   ]
  },
  {
   "cell_type": "code",
   "execution_count": 9,
   "metadata": {},
   "outputs": [],
   "source": [
    "# Extracting the meta-sequence with the minimum distance to all event sequences\n",
    "\n",
    "for key, value in patterns_scores_Spearman_Footrule.items():\n",
    "    if value == min_score_Spearman_Footrule:\n",
    "        seq = list(key)"
   ]
  },
  {
   "cell_type": "code",
   "execution_count": 10,
   "metadata": {},
   "outputs": [],
   "source": [
    "# Function for adding the remaining variables not included in the initial \n",
    "# proposed pattern coming from permutation of variables in space list\n",
    "\n",
    "def add_remaining_feats(feat, pattern, all_cohorts):\n",
    "    \"\"\"Add the remaining variables to the starting sequence (list1)\"\"\"\n",
    "    list1 = pattern[::]\n",
    "    \n",
    "    for feat in perm:    \n",
    "    \n",
    "        dict_total = []\n",
    "\n",
    "        tup = tuple()\n",
    "        dic_Spearman_Footrule = {}\n",
    "\n",
    "        # Iterate over all possible postions that the new variable can have in initial proposed pattern\n",
    "        for i in range(len(list1)):\n",
    "            tup = tuple()\n",
    "\n",
    "            list1.insert(i, feat)\n",
    "            tup += (i, feat)\n",
    "            dic_Spearman_Footrule[tup] = pattern_sequence_consistency(list1, all_cohorts)\n",
    "            list1.remove(feat)\n",
    "\n",
    "            dict_total.append(dic_Spearman_Footrule)\n",
    "\n",
    "        res = ChainMap(*dict_total)\n",
    "        feat_min = min(res, key=lambda k: res[k])\n",
    "        list1.insert(feat_min[0], feat_min[1])\n",
    "\n",
    "    return list1, res[feat_min]"
   ]
  },
  {
   "cell_type": "code",
   "execution_count": 18,
   "metadata": {},
   "outputs": [
    {
     "name": "stdout",
     "output_type": "stream",
     "text": [
      "(['ABETA', 'LIMM', 'MMSE', 'TAU', 'PTAU', 'LDEL', 'ENTOR', 'HIPPO', 'FUSIF', 'MIDTEMP', 'CSFVOL', 'VENT', 'FIGC'],)\n"
     ]
    }
   ],
   "source": [
    "# Add remaining variables to initial proposed pattern coming from  \n",
    "# permutation of variables in space list having the minimum distance with all event sequences\n",
    "not_common = [x for x in space if x not in seq]\n",
    "r = len(space) - n\n",
    "\n",
    "meta_seqs = dict()\n",
    "\n",
    "for comb in permutations(not_common, r):\n",
    "    for feat in comb:\n",
    "            \n",
    "        seq, distance = add_remaining_feats(perm, pattern, ac)\n",
    "        meta_seqs[tuple(seq)] = distance\n",
    "\n",
    "# print meta-seqs with lowest distance\n",
    "min_dist = min(meta_seqs.values())\n",
    "min_meta_seqs = [key for key in meta_seqs.keys() if meta_seqs[key] == min_dist]\n",
    "\n",
    "for meta_seq in min_meta_seqs:\n",
    "    print(meta_seq)"
   ]
  }
 ],
 "metadata": {
  "kernelspec": {
   "display_name": "Python 3",
   "language": "python",
   "name": "python3"
  },
  "language_info": {
   "codemirror_mode": {
    "name": "ipython",
    "version": 3
   },
   "file_extension": ".py",
   "mimetype": "text/x-python",
   "name": "python",
   "nbconvert_exporter": "python",
   "pygments_lexer": "ipython3",
   "version": "3.8.5"
  }
 },
 "nbformat": 4,
 "nbformat_minor": 4
}
