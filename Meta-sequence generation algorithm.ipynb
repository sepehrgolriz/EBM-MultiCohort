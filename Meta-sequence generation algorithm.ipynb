{
 "cells": [
  {
   "cell_type": "code",
   "execution_count": 1,
   "metadata": {},
   "outputs": [],
   "source": [
    "import itertools\n",
    "import numpy as np\n",
    "from tqdm import tqdm\n",
    "from collections import Counter\n",
    "from collections import ChainMap\n",
    "import pandas as pd\n",
    "import heapq\n",
    "import matplotlib.pyplot as plt\n",
    "from itertools import permutations as itertools_permutations"
   ]
  },
  {
   "cell_type": "code",
   "execution_count": 2,
   "metadata": {},
   "outputs": [],
   "source": [
    "# lists containing individual ranked lists (i.e., event sequences)\n",
    "\n",
    "ADNI = ['ABETA', 'LDEL', 'MMSE', 'LIMM','PTAU','TAU', 'ENTOR', 'HIPPO', 'VENT', 'FUSIF','MIDTEMP']\n",
    "\n",
    "AIBL = ['LIMM', 'LDEL', 'MMSE','FIGC']\n",
    "\n",
    "JADNI = ['ABETA','PTAU','LIMM','MMSE','VENT', 'LDEL', 'TAU','HIPPO', 'ENTOR', 'FUSIF','MIDTEMP']\n",
    "\n",
    "ANM = ['MMSE', 'HIPPO', 'ENTOR', 'FUSIF', 'MIDTEMP', 'CSFVOL', 'VENT']\n",
    "\n",
    "WMHAD = ['MMSE', 'FUSIF','VENT', 'ENTOR', 'CSFVOL', 'HIPPO', 'MIDTEMP']\n",
    "\n",
    "ARWIBO = ['LDEL', 'VENT', 'MMSE', 'FUSIF','LIMM', 'ENTOR', 'HIPPO', 'MIDTEMP', 'CSFVOL','FIGC']\n",
    "\n",
    "EMIF = ['MMSE', 'ABETA', 'TAU', 'PTAU', 'LDEL', 'HIPPO']\n",
    "\n",
    "OASIS = ['MMSE', 'CSFVOL', 'MIDTEMP', 'HIPPO', 'ENTOR', 'FUSIF', 'VENT']\n",
    "\n",
    "EDSD = ['MMSE', 'HIPPO', 'VENT','ENTOR', 'FIGC', 'MIDTEMP','FUSIF']\n",
    "\n",
    "NACC = ['ABETA', 'LIMM', 'MMSE', 'TAU','PTAU','ENTOR', 'MIDTEMP', 'FUSIF', 'HIPPO', 'CSFVOL', 'VENT']"
   ]
  },
  {
   "cell_type": "code",
   "execution_count": 3,
   "metadata": {},
   "outputs": [],
   "source": [
    "# list containing the underlying variables\n",
    "\n",
    "space = ['ABETA', 'LDEL', 'MMSE', 'LIMM', 'ENTOR', 'HIPPO', 'VENT','FUSIF','MIDTEMP', 'FIGC', 'CSFVOL', 'TAU', 'PTAU']"
   ]
  },
  {
   "cell_type": "code",
   "execution_count": 4,
   "metadata": {},
   "outputs": [],
   "source": [
    "n = 8\n",
    "\n",
    "candidate_init_tuple = list(itertools.permutations(space,n))"
   ]
  },
  {
   "cell_type": "code",
   "execution_count": 5,
   "metadata": {},
   "outputs": [],
   "source": [
    "all_cohorts = [ADNI,AIBL,ANM,WMHAD,ARWIBO,EMIF,OASIS,EDSD,NACC,JADNI] "
   ]
  },
  {
   "cell_type": "code",
   "execution_count": 6,
   "metadata": {},
   "outputs": [],
   "source": [
    "# Distance function\n",
    "\n",
    "def Spearman_Footrule(list_1,list_2):\n",
    "    \n",
    "    dist = 0\n",
    "    \n",
    "    for feat in list_1:\n",
    "        \n",
    "        list_1_index = list_1.index(feat)\n",
    "        list_2_index = list_2.index(feat)\n",
    "        \n",
    "        dist += abs(list_1_index - list_2_index)\n",
    "    \n",
    "    return dist "
   ]
  },
  {
   "cell_type": "code",
   "execution_count": 7,
   "metadata": {},
   "outputs": [],
   "source": [
    "# Calculating distance between the potential meta-sequence (i.e., pattern) and individual event sequence\n",
    "\n",
    "def pattern_sequence_consistency (pattern,all_cohorts):\n",
    "    \n",
    "    pattern_copy = pattern.copy()\n",
    "    \n",
    "    distance_Spearman_Footrule = []\n",
    "    \n",
    "    patten_dist_Spearman_Footrule = {}\n",
    "\n",
    "    # Handeling the partially overlapped ranked lists\n",
    "    for seq in all_cohorts:\n",
    "        \n",
    "        pattern_not_seq = [ x for x in pattern_copy if x in seq ]\n",
    "        seq_not_pattern = [ y for y in seq if y in pattern_copy ]\n",
    "\n",
    "        if len(seq_not_pattern) == 0:\n",
    "            continue\n",
    "        \n",
    "        # Calculating distance between the pattern and individual event sequence\n",
    "        dists_Spearman_Footrule = (Spearman_Footrule(pattern_not_seq,seq_not_pattern)/len(seq_not_pattern))\n",
    "        \n",
    "        distance_Spearman_Footrule.append(dists_Spearman_Footrule)\n",
    "    \n",
    "    # Calculating the overall distance between the pattern and all cohorts\n",
    "    dist_Spearman_Footrule = np.mean(distance_Spearman_Footrule)\n",
    "    \n",
    "    patten_dist_Spearman_Footrule[tuple(pattern)] = dist_Spearman_Footrule\n",
    "    \n",
    "    return dist_Spearman_Footrule"
   ]
  },
  {
   "cell_type": "code",
   "execution_count": 8,
   "metadata": {
    "scrolled": true
   },
   "outputs": [
    {
     "name": "stderr",
     "output_type": "stream",
     "text": [
      "100%|██████████| 51891840/51891840 [39:37<00:00, 21825.40it/s]  \n"
     ]
    }
   ],
   "source": [
    "# Calculating distance between  all possible meta-sequences (i.e., patterns) and event sequence\n",
    "\n",
    "patterns_scores_Spearman_Footrule = {}\n",
    "\n",
    "for i in tqdm(range(len(candidate_init_tuple))):\n",
    "    patterns = candidate_init_tuple[i]    \n",
    "    \n",
    "    patterns = list(patterns)\n",
    "    \n",
    "    dist_Spearman_Footrule = pattern_sequence_consistency(patterns,all_cohorts)\n",
    "    \n",
    "    patterns_scores_Spearman_Footrule[tuple(patterns)] = dist_Spearman_Footrule\n",
    "\n",
    "min_score_Spearman_Footrule = min(patterns_scores_Spearman_Footrule.values())"
   ]
  },
  {
   "cell_type": "code",
   "execution_count": 9,
   "metadata": {},
   "outputs": [],
   "source": [
    "# Extracting the meta-sequence with the minimum distance to all event sequences\n",
    "\n",
    "for key, value in patterns_scores_Spearman_Footrule.items():\n",
    "    if value == min_score_Spearman_Footrule:\n",
    "        seq = list(key)"
   ]
  },
  {
   "cell_type": "code",
   "execution_count": 10,
   "metadata": {},
   "outputs": [],
   "source": [
    "# Function for adding the remaining variables not included in the initial proposed pattern coming from permutation of variables in space list\n",
    "\n",
    "def add_remaining_feats (feat,list1,all_cohorts):\n",
    "    \n",
    "    dict_total = []\n",
    "\n",
    "    tup = tuple()\n",
    "    dic_Spearman_Footrule = {}\n",
    "    \n",
    "    # adding new variable to the initial proposed pattern\n",
    "    if feat not in list1:\n",
    "        \n",
    "        # Iterate over all possible postions that the new variable can have in initial proposed pattern\n",
    "        for i in range(len(list1)):\n",
    "            tup = tuple()\n",
    "                \n",
    "            list1.insert(i,feat)\n",
    "            dist_Spearman_Footrule = pattern_sequence_consistency(list1,all_cohorts)\n",
    "            tup = tup + (i,)\n",
    "            tup = tup + (feat,)\n",
    "            dic_Spearman_Footrule[tup] = dist_Spearman_Footrule\n",
    "            list1.remove(feat)\n",
    "            \n",
    "            dict_total.append(dic_Spearman_Footrule)\n",
    "\n",
    "        res = ChainMap(*dict_total)\n",
    "        feat_min= min(res, key=lambda k: res[k])\n",
    "        list1.insert(feat_min[0],feat_min[1])\n",
    "    \n",
    "    return list1,"
   ]
  },
  {
   "cell_type": "code",
   "execution_count": 11,
   "metadata": {},
   "outputs": [],
   "source": [
    "not_common = [x for x in space if x not in seq]"
   ]
  },
  {
   "cell_type": "code",
   "execution_count": 12,
   "metadata": {},
   "outputs": [],
   "source": [
    "n = 5\n",
    "candidate_comple_tuple = list(itertools.permutations(not_common,n))"
   ]
  },
  {
   "cell_type": "code",
   "execution_count": 18,
   "metadata": {},
   "outputs": [
    {
     "name": "stdout",
     "output_type": "stream",
     "text": [
      "(['ABETA', 'LIMM', 'MMSE', 'TAU', 'PTAU', 'LDEL', 'ENTOR', 'HIPPO', 'FUSIF', 'MIDTEMP', 'CSFVOL', 'VENT', 'FIGC'],)\n"
     ]
    }
   ],
   "source": [
    "# Add remaining variables to initial proposed pattern coming from permutation of variables in space list having the \n",
    "# minimum distance with all event sequences\n",
    "\n",
    "\n",
    "i = 0\n",
    "\n",
    "for comb in candidate_comple_tuple:\n",
    "    \n",
    "    i = i + 1\n",
    "    \n",
    "    for feat in comb:\n",
    "            \n",
    "        complete = add_remaining_feats(feat,seq,all_cohorts)\n",
    "\n",
    "print(complete)"
   ]
  },
  {
   "cell_type": "code",
   "execution_count": null,
   "metadata": {},
   "outputs": [],
   "source": []
  }
 ],
 "metadata": {
  "kernelspec": {
   "display_name": "Python 3",
   "language": "python",
   "name": "python3"
  },
  "language_info": {
   "codemirror_mode": {
    "name": "ipython",
    "version": 3
   },
   "file_extension": ".py",
   "mimetype": "text/x-python",
   "name": "python",
   "nbconvert_exporter": "python",
   "pygments_lexer": "ipython3",
   "version": "3.8.5"
  }
 },
 "nbformat": 4,
 "nbformat_minor": 4
}
